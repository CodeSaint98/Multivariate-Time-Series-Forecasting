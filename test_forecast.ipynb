{
 "cells": [
  {
   "cell_type": "code",
   "execution_count": 7,
   "metadata": {},
   "outputs": [],
   "source": [
    "import pandas as pd\n",
    "from statsmodels.tsa.api import VAR"
   ]
  },
  {
   "cell_type": "code",
   "execution_count": 30,
   "metadata": {},
   "outputs": [
    {
     "name": "stdout",
     "output_type": "stream",
     "text": [
      "#      5\n",
      "H1     3\n",
      "H2     7\n",
      "H3     8\n",
      "H4     9\n",
      "H5    11\n",
      "H6    12\n",
      "H7    18\n",
      "M1    22\n",
      "M2    26\n",
      "M3    29\n",
      "M4    30\n",
      "M5    33\n",
      "M6    40\n",
      "L1    46\n",
      "L2    48\n",
      "L3    49\n",
      "L4    55\n",
      "L5    58\n",
      "L6    60\n",
      "L7    63\n",
      "Name: 4, dtype: int64\n"
     ]
    }
   ],
   "source": [
    "path = \"/home/lucid/work/forecasting/data/dataset.csv\"\n",
    "macrodata = pd.read_csv(path,delimiter=';')\n",
    "print(macrodata.iloc[4])"
   ]
  },
  {
   "cell_type": "code",
   "execution_count": 25,
   "metadata": {},
   "outputs": [],
   "source": [
    "model = VAR(macrodata.head())\n",
    "model_fit = model.fit()"
   ]
  },
  {
   "cell_type": "code",
   "execution_count": 33,
   "metadata": {},
   "outputs": [
    {
     "name": "stdout",
     "output_type": "stream",
     "text": [
      "[[ 2.76809574  2.78432553  4.75714791  7.08153052 11.47517651 16.18287318\n",
      "  17.9739446  23.49143821 26.0547103  28.95934931 30.0276713  32.22409108\n",
      "  36.96254111 39.11711445 40.90049859 42.88955076 47.43082648 50.5248658\n",
      "  54.32465628 57.77199336 62.38154947]]\n"
     ]
    }
   ],
   "source": [
    "pred = model_fit.forecast(model_fit.y, steps=1)\n",
    "print(pred)"
   ]
  }
 ],
 "metadata": {
  "kernelspec": {
   "display_name": "Python 3",
   "language": "python",
   "name": "python3"
  },
  "language_info": {
   "codemirror_mode": {
    "name": "ipython",
    "version": 3
   },
   "file_extension": ".py",
   "mimetype": "text/x-python",
   "name": "python",
   "nbconvert_exporter": "python",
   "pygments_lexer": "ipython3",
   "version": "3.8.2"
  }
 },
 "nbformat": 4,
 "nbformat_minor": 4
}
